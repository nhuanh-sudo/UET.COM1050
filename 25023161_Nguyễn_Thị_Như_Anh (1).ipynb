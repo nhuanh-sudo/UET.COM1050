{
  "nbformat": 4,
  "nbformat_minor": 0,
  "metadata": {
    "colab": {
      "provenance": []
    },
    "kernelspec": {
      "name": "python3",
      "display_name": "Python 3"
    },
    "language_info": {
      "name": "python"
    }
  },
  "cells": [
    {
      "cell_type": "markdown",
      "source": [
        "Bài 5"
      ],
      "metadata": {
        "id": "U9M2q6Pg7Mb5"
      }
    },
    {
      "cell_type": "code",
      "execution_count": 4,
      "metadata": {
        "colab": {
          "base_uri": "https://localhost:8080/"
        },
        "id": "af8OkizT7IDl",
        "outputId": "398c073a-dee7-4ab6-d30d-9d2b2907c775"
      },
      "outputs": [
        {
          "output_type": "stream",
          "name": "stdout",
          "text": [
            "Nhập chiều cao: 1.62\n",
            "Nhập cân nặng: 50\n",
            "Bình thường 19.05\n"
          ]
        }
      ],
      "source": [
        "height = float(input(\"Nhập chiều cao(m): \"))\n",
        "weight = float(input(\"Nhập cân nặng(kg): \"))\n",
        "bmi = weight / (height ** 2)\n",
        "if bmi < 18.5:\n",
        "  print(f\"Thiếu cân {bmi:.2f}\")\n",
        "elif 18.5 <= bmi < 25:\n",
        "  print(f\"Bình thường {bmi:.2f}\")\n",
        "elif 25 <= bmi < 30:\n",
        "  print(f\"Thừa cân {bmi:.2f}\")\n",
        "elif 30 >= bmi:\n",
        "  print(f\"Béo phì {bmi:.2f}\")"
      ]
    },
    {
      "cell_type": "markdown",
      "source": [
        "Bài 6"
      ],
      "metadata": {
        "id": "V4BbO9_D7Qwf"
      }
    },
    {
      "cell_type": "code",
      "source": [
        "toan = float(input(\"Điểm môn toán: \"))\n",
        "ly = float(input(\"Điểm môn lý: \"))\n",
        "hoa = float(input(\"Điểm môn hoá: \"))\n",
        "anh = float(input(\"Điểm môn anh: \"))\n",
        "diem_tb = (toan + ly + hoa + anh) / 4\n",
        "if diem_tb >= 9.0:\n",
        "    xep_loai = \"Xuất sắc\"\n",
        "elif diem_tb >= 8.5:\n",
        "    xep_loai = \"Giỏi\"\n",
        "elif diem_tb >= 7.0:\n",
        "    xep_loai = \"Khá\"\n",
        "elif diem_tb >= 5.5:\n",
        "    xep_loai = \"Trung bình\"\n",
        "elif diem_tb < 5.5:\n",
        "    xep_loai = \"Yếu\"\n",
        "hoc_luc_kem = (toan < 4 or ly < 4 or hoa < 4 or anh < 4)\n",
        "print(f\"Điểm TB: {diem_tb:.1f}\")\n",
        "print(\"Xếp loại: \", xep_loai)\n",
        "if hoc_luc_kem :\n",
        "    print(\"Học lực kém\")\n",
        "\n"
      ],
      "metadata": {
        "colab": {
          "base_uri": "https://localhost:8080/"
        },
        "id": "70fQV2RA7SbM",
        "outputId": "ec4d1f10-dbeb-4d3f-ad08-38dd1c4840e2"
      },
      "execution_count": 8,
      "outputs": [
        {
          "output_type": "stream",
          "name": "stdout",
          "text": [
            "Điểm môn toán: 9\n",
            "Điểm môn lý: 9\n",
            "Điểm môn hoá: 9\n",
            "Điểm môn anh: 9\n",
            "Điểm TB: 9.0\n",
            "Xếp loại:  Xuất sắc\n"
          ]
        }
      ]
    },
    {
      "cell_type": "markdown",
      "source": [
        "Bài 7"
      ],
      "metadata": {
        "id": "cw5_bGSkGUX0"
      }
    },
    {
      "cell_type": "code",
      "source": [
        "n = int(input(\"Nhap so luong mat hang: \"))\n",
        "items = []\n",
        "for i in range(n):\n",
        "    print(f\"\\nMat hang {i+1}:\")\n",
        "    ten = input(\"Ten hang: \")\n",
        "    sl = int(input(\"So luong: \"))\n",
        "    gia = float(input(\"Don gia: \"))\n",
        "    thanh_tien = sl * gia\n",
        "    items.append([ten, sl, gia, thanh_tien])\n",
        "tong = sum(item[3] for item in items)\n",
        "giam = 0\n",
        "if tong >= 100:\n",
        "    giam = tong * 0.1\n",
        "elif tong >= 50:\n",
        "    giam = tong * 0.05\n",
        "thanh_toan = tong - giam\n",
        "print(\"\\n=== HOA DON HIEU SACH ===\")\n",
        "print(\"STT |\", \"Ten hang |\", \"SL |\", \"Don gia |\", \"Thanh tien\")\n",
        "print(\"-\"*4 + \"|\" + \"-\"*9 + \"|\" + \"-\"*3 + \"|\" + \"-\"*8 + \"|\")\n",
        "\n",
        "for i, item in enumerate(items, 1):\n",
        "    print(i, item[0], item[1], item[2], item[3])\n",
        "print(\"-\"*4 + \"|\" + \"-\"*9 + \"|\" + \"-\"*3 + \"|\" + \"-\"*8 + \"|\")\n",
        "print(f\"Tong cong:\", tong)\n",
        "print(f\"Giam gia:\", giam)\n",
        "print(f\"Thanh toan:\", thanh_toan)"
      ],
      "metadata": {
        "colab": {
          "base_uri": "https://localhost:8080/"
        },
        "id": "pAA5jcNjGXJ0",
        "outputId": "51e35442-6a6e-477d-9479-23f13a36f922"
      },
      "execution_count": 10,
      "outputs": [
        {
          "output_type": "stream",
          "name": "stdout",
          "text": [
            "Nhap so luong mat hang: 2\n",
            "\n",
            "Mat hang 1:\n",
            "Ten hang: sách\n",
            "So luong: 2\n",
            "Don gia: 15.5\n",
            "\n",
            "Mat hang 2:\n",
            "Ten hang: vở\n",
            "So luong: 3\n",
            "Don gia: 2\n",
            "\n",
            "=== HOA DON HIEU SACH ===\n",
            "STT | Ten hang | SL | Don gia | Thanh tien\n",
            "----|---------|---|--------|\n",
            "1 sách 2 15.5 31.0\n",
            "2 vở 3 2.0 6.0\n",
            "----|---------|---|--------|\n",
            "Tong cong: 37.0\n",
            "Giam gia: 0\n",
            "Thanh toan: 37.0\n"
          ]
        }
      ]
    }
  ]
}
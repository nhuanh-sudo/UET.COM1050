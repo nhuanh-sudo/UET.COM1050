{
  "nbformat": 4,
  "nbformat_minor": 0,
  "metadata": {
    "colab": {
      "provenance": []
    },
    "kernelspec": {
      "name": "python3",
      "display_name": "Python 3"
    },
    "language_info": {
      "name": "python"
    }
  },
  "cells": [
    {
      "cell_type": "markdown",
      "source": [
        "W2A1"
      ],
      "metadata": {
        "id": "hSjINdodWJ3z"
      }
    },
    {
      "cell_type": "code",
      "execution_count": null,
      "metadata": {
        "colab": {
          "base_uri": "https://localhost:8080/"
        },
        "id": "ZiOrtreTWJDn",
        "outputId": "4417857a-4812-4431-8a3c-247695b733be"
      },
      "outputs": [
        {
          "output_type": "stream",
          "name": "stdout",
          "text": [
            "Hello World!\n"
          ]
        }
      ],
      "source": [
        "print(\"Hello World!\")"
      ]
    },
    {
      "cell_type": "markdown",
      "source": [
        "W2A2"
      ],
      "metadata": {
        "id": "-fHKElhlXXYF"
      }
    },
    {
      "cell_type": "code",
      "source": [
        "name = input(\"Name: \")\n",
        "print(f\"Hello {name}\")"
      ],
      "metadata": {
        "colab": {
          "base_uri": "https://localhost:8080/"
        },
        "id": "9gA0EH7vXcoA",
        "outputId": "e7b5f652-710d-4650-9275-65e449cafa2a"
      },
      "execution_count": null,
      "outputs": [
        {
          "output_type": "stream",
          "name": "stdout",
          "text": [
            "Name: Nhuanh\n",
            "Hello Nhuanh\n"
          ]
        }
      ]
    },
    {
      "cell_type": "markdown",
      "source": [
        "W2A3"
      ],
      "metadata": {
        "id": "sX2-TZvsovWB"
      }
    },
    {
      "cell_type": "code",
      "source": [
        "a = int(input(\"số nguyên a: \"))\n",
        "b = int(input(\"số nguyên b: \"))\n",
        "c = a + b\n",
        "print(f\"Tổng là: {c}\")\n",
        "c = a - b\n",
        "print(f\"Hiệu là: {c}\")\n",
        "c = a * b\n",
        "print(f\"Tích là: {c}\")\n",
        "cc = a // b\n",
        "print(f\"Phần nguyên là: {c}\")\n",
        "c = a % b\n",
        "print(f\"Phần dư là: {c}\")\n",
        "c = a / b\n",
        "print(f\"Thương là: {c:.2f}\".format(c))"
      ],
      "metadata": {
        "id": "OPf7t8qroz3W",
        "colab": {
          "base_uri": "https://localhost:8080/"
        },
        "outputId": "f0ecd065-9c0e-4a0f-d311-d5e66fd57861"
      },
      "execution_count": null,
      "outputs": [
        {
          "output_type": "stream",
          "name": "stdout",
          "text": [
            "số nguyên a: 7\n",
            "số nguyên b: 2\n",
            "Tổng là: 9\n",
            "Hiệu là: 5\n",
            "Tích là: 14\n",
            "Phần nguyên là: 14\n",
            "Phần dư là: 1\n",
            "Thương là: 3.50\n"
          ]
        }
      ]
    },
    {
      "cell_type": "markdown",
      "source": [
        "W2A4"
      ],
      "metadata": {
        "id": "XExcgCBfo0Ro"
      }
    },
    {
      "cell_type": "code",
      "source": [
        "a1, b1, c1, a2, b2, a3 = map(int, input(\"Điểm: \").split())\n",
        "c = ((a1+b1+c1)+(a2+b2)*2+(a3)*3)/10\n",
        "print(f\"Điểm TB là: {c}\")"
      ],
      "metadata": {
        "id": "1lDczwXGo2q6",
        "colab": {
          "base_uri": "https://localhost:8080/"
        },
        "outputId": "6d6249ea-006a-413a-f9ad-da00853c65b3"
      },
      "execution_count": null,
      "outputs": [
        {
          "output_type": "stream",
          "name": "stdout",
          "text": [
            "Điểm: 10 10 10 9 9 9\n",
            "Điểm TB là: 9.3\n"
          ]
        }
      ]
    },
    {
      "cell_type": "markdown",
      "source": [
        "W2A5"
      ],
      "metadata": {
        "id": "95enFHiBqqYR"
      }
    },
    {
      "cell_type": "code",
      "source": [
        "a, b = map(int, input().split())\n",
        "print(a**b)"
      ],
      "metadata": {
        "id": "1SIClCD-quVs",
        "colab": {
          "base_uri": "https://localhost:8080/"
        },
        "outputId": "ecdd3148-625c-42a2-a7ea-efd7a341796c"
      },
      "execution_count": null,
      "outputs": [
        {
          "output_type": "stream",
          "name": "stdout",
          "text": [
            "2 2\n",
            "4\n"
          ]
        }
      ]
    },
    {
      "cell_type": "markdown",
      "source": [
        "W2A6"
      ],
      "metadata": {
        "id": "3IrI3qj5J1g7"
      }
    },
    {
      "cell_type": "code",
      "source": [
        "a = input()\n",
        "print(a.upper())"
      ],
      "metadata": {
        "colab": {
          "base_uri": "https://localhost:8080/"
        },
        "id": "7DAjkP8DJ4G6",
        "outputId": "22bcdf87-1b07-45be-a8a7-fd80b82d6bf4"
      },
      "execution_count": null,
      "outputs": [
        {
          "output_type": "stream",
          "name": "stdout",
          "text": [
            "a\n",
            "A\n"
          ]
        }
      ]
    },
    {
      "cell_type": "markdown",
      "source": [
        "W2A7"
      ],
      "metadata": {
        "id": "Tl_BifnGJ5YW"
      }
    },
    {
      "cell_type": "code",
      "source": [
        "A = ((13 ** 2) * 3) + 5\n",
        "print(A)\n",
        "B = 13**2*3 + 5\n",
        "print(B)"
      ],
      "metadata": {
        "colab": {
          "base_uri": "https://localhost:8080/"
        },
        "id": "ahRzZHbcJ7EG",
        "outputId": "4f982c8b-90b9-4b08-b92c-f9c95fca489b"
      },
      "execution_count": null,
      "outputs": [
        {
          "output_type": "stream",
          "name": "stdout",
          "text": [
            "512\n",
            "512\n"
          ]
        }
      ]
    },
    {
      "cell_type": "markdown",
      "source": [
        "W2A8"
      ],
      "metadata": {
        "id": "CYqu0nXyKCuk"
      }
    },
    {
      "cell_type": "code",
      "source": [
        "c = int(input(\"Nhiệt độ Celcius: \"))\n",
        "f = 9 / 5 * c  + 32\n",
        "print(f\"Nhiệt độ Fahrenheit: {f:.2f}\")"
      ],
      "metadata": {
        "colab": {
          "base_uri": "https://localhost:8080/"
        },
        "id": "UdGf0cBiKCTP",
        "outputId": "1995390d-23c1-4e90-a8a4-6cb3f91241de"
      },
      "execution_count": null,
      "outputs": [
        {
          "output_type": "stream",
          "name": "stdout",
          "text": [
            "Nhiệt độ Celcius: 5\n",
            "Nhiệt độ Fahrenheit: 41.00\n"
          ]
        }
      ]
    },
    {
      "cell_type": "markdown",
      "source": [
        "W2A9"
      ],
      "metadata": {
        "id": "tDYtP7FWKEed"
      }
    },
    {
      "cell_type": "code",
      "source": [
        "c = int(input(\"Giá đồng hồ: \"))\n",
        "t = 0.3 * c + 0.1 * c + c\n",
        "print(f\"Tổng: {t:.2f}\")"
      ],
      "metadata": {
        "colab": {
          "base_uri": "https://localhost:8080/"
        },
        "id": "t-hOxbXAKF7l",
        "outputId": "22ddcd5e-b8c7-4e44-f86b-63d64637f637"
      },
      "execution_count": null,
      "outputs": [
        {
          "output_type": "stream",
          "name": "stdout",
          "text": [
            "Giá đồng hồ: 3000\n",
            "Tổng: 4200.00\n"
          ]
        }
      ]
    },
    {
      "cell_type": "markdown",
      "source": [
        "W2A10\n"
      ],
      "metadata": {
        "id": "VjB7l5KMYXEK"
      }
    },
    {
      "cell_type": "code",
      "source": [
        "a= input ()\n",
        "b= input ()\n",
        "c= input()\n",
        "print('Hi ' + c + ', ' + b + ' and ' +a)"
      ],
      "metadata": {
        "colab": {
          "base_uri": "https://localhost:8080/"
        },
        "id": "CsWpXFphYZpY",
        "outputId": "5a3df3af-60b7-463a-bfe0-5be6e08c1adb"
      },
      "execution_count": null,
      "outputs": [
        {
          "output_type": "stream",
          "name": "stdout",
          "text": [
            "Bob\n",
            "Alice\n",
            "Helen\n",
            "Hi Helen, Alice and Bob\n"
          ]
        }
      ]
    },
    {
      "cell_type": "markdown",
      "source": [
        "W2A11"
      ],
      "metadata": {
        "id": "-utdsl2xKIly"
      }
    },
    {
      "cell_type": "code",
      "source": [
        "h = int(input(\"Số giờ: \"))\n",
        "m = int(input(\"Số phút: \"))\n",
        "s = h * 3600 + m * 60\n",
        "print(f\"Số giây là: {s}\")"
      ],
      "metadata": {
        "colab": {
          "base_uri": "https://localhost:8080/"
        },
        "id": "muy8CjZDKKHG",
        "outputId": "e0fb813a-9fa9-44fe-86cd-be0783d2fa40"
      },
      "execution_count": null,
      "outputs": [
        {
          "output_type": "stream",
          "name": "stdout",
          "text": [
            "Số giờ: 2\n",
            "Số phút: 30\n",
            "Số giây là: 9000\n"
          ]
        }
      ]
    },
    {
      "cell_type": "markdown",
      "source": [
        "W2A12"
      ],
      "metadata": {
        "id": "4FCw_F6jKKf0"
      }
    },
    {
      "cell_type": "code",
      "source": [
        "l = int(input(\"Độ dài cạnh rubik: \"))\n",
        "n = 6 * l **2\n",
        "print(f\"Tổng số miếng dán là: {n}\")\n"
      ],
      "metadata": {
        "colab": {
          "base_uri": "https://localhost:8080/"
        },
        "id": "X7q3BQMlKL-Q",
        "outputId": "63c563b3-4f9b-470b-d953-effc28267f4a"
      },
      "execution_count": null,
      "outputs": [
        {
          "output_type": "stream",
          "name": "stdout",
          "text": [
            "Độ dài cạnh rubik: 2\n",
            "Tổng số miếng dán là: 24\n"
          ]
        }
      ]
    },
    {
      "cell_type": "markdown",
      "source": [
        "W2A13"
      ],
      "metadata": {
        "id": "ARAjRYA_KNRC"
      }
    },
    {
      "cell_type": "code",
      "source": [
        "a = int(input(\"Số nguyên dương a: \"))\n",
        "b = int(input(\"Số nguyên dương b: \"))\n",
        "t = a * b\n",
        "def hang_don_vi (n):\n",
        "  return n % 10\n",
        "print(f\"Hàng đơn vị:\", hang_don_vi(t))"
      ],
      "metadata": {
        "colab": {
          "base_uri": "https://localhost:8080/"
        },
        "id": "3EZ8V1yFKOVL",
        "outputId": "b6697923-30d6-4d24-dd74-630df347545e"
      },
      "execution_count": null,
      "outputs": [
        {
          "output_type": "stream",
          "name": "stdout",
          "text": [
            "Số nguyên dương a: 2\n",
            "Số nguyên dương b: 9\n",
            "Hàng đơn vị: 8\n"
          ]
        }
      ]
    },
    {
      "cell_type": "markdown",
      "source": [
        "W2A14"
      ],
      "metadata": {
        "id": "t735dYaZKOtH"
      }
    },
    {
      "cell_type": "code",
      "source": [
        "a = input(\"số a: \")\n",
        "b = input(\"số b: \")\n",
        "print(f\"số a: {b}, số b: {a}\")"
      ],
      "metadata": {
        "colab": {
          "base_uri": "https://localhost:8080/"
        },
        "id": "omHAaUgHKP8u",
        "outputId": "4fb63604-f11e-4569-d293-7fad98b8bc07"
      },
      "execution_count": null,
      "outputs": [
        {
          "output_type": "stream",
          "name": "stdout",
          "text": [
            "số a: 2\n",
            "số b: 3\n",
            "số a: 3, số b: 2\n"
          ]
        }
      ]
    },
    {
      "cell_type": "markdown",
      "source": [
        "W2A15"
      ],
      "metadata": {
        "id": "QdeTj68VKQO9"
      }
    },
    {
      "cell_type": "code",
      "source": [
        "n = int(input(\"Nhập số nguyên dương: \"))\n",
        "s = 3 * n * (n - 1) + 1\n",
        "print(s)"
      ],
      "metadata": {
        "colab": {
          "base_uri": "https://localhost:8080/"
        },
        "id": "RP-8NA3QKRr2",
        "outputId": "5c37fa6f-e2df-44de-ace7-9e8bc8eaa535"
      },
      "execution_count": null,
      "outputs": [
        {
          "output_type": "stream",
          "name": "stdout",
          "text": [
            "Nhập số nguyên dương: 2\n",
            "7\n"
          ]
        }
      ]
    },
    {
      "cell_type": "markdown",
      "source": [
        "W2A16"
      ],
      "metadata": {
        "id": "sKjXvlUBfzTQ"
      }
    },
    {
      "cell_type": "code",
      "source": [
        "print('Spring\\nSummer\\nAutumn\\nWinter')"
      ],
      "metadata": {
        "colab": {
          "base_uri": "https://localhost:8080/"
        },
        "id": "eeKaZ7H_f5eO",
        "outputId": "aa550d08-490d-4bca-fb18-f29d5f57158a"
      },
      "execution_count": null,
      "outputs": [
        {
          "output_type": "stream",
          "name": "stdout",
          "text": [
            "Spring\n",
            "Summer\n",
            "Autumn\n",
            "Winter\n"
          ]
        }
      ]
    },
    {
      "cell_type": "markdown",
      "source": [
        "W2A17"
      ],
      "metadata": {
        "id": "Q_Q0wa_7f53_"
      }
    },
    {
      "cell_type": "code",
      "source": [
        "print('*')\n",
        "print('**')\n",
        "print('***')\n"
      ],
      "metadata": {
        "colab": {
          "base_uri": "https://localhost:8080/"
        },
        "id": "k6Dnevl_f8Ca",
        "outputId": "429ca038-21ab-454e-fde4-9d32cfe036af"
      },
      "execution_count": null,
      "outputs": [
        {
          "output_type": "stream",
          "name": "stdout",
          "text": [
            "*\n",
            "**\n",
            "***\n"
          ]
        }
      ]
    },
    {
      "cell_type": "code",
      "source": [
        "line=[1,2,3]\n",
        "for i in line:\n",
        "  print('*'*i)"
      ],
      "metadata": {
        "colab": {
          "base_uri": "https://localhost:8080/"
        },
        "id": "nRmZQv78l5Xm",
        "outputId": "63fa1e12-e0f0-4644-b196-f9fbfdc6d13e"
      },
      "execution_count": null,
      "outputs": [
        {
          "output_type": "stream",
          "name": "stdout",
          "text": [
            "*\n",
            "**\n",
            "***\n"
          ]
        }
      ]
    },
    {
      "cell_type": "code",
      "source": [
        "for i in range(1,6,2):\n",
        "  print('*'*i)"
      ],
      "metadata": {
        "colab": {
          "base_uri": "https://localhost:8080/"
        },
        "id": "ANY92HkmmKOb",
        "outputId": "2c551f95-290f-4802-f584-5563d13294a9"
      },
      "execution_count": null,
      "outputs": [
        {
          "output_type": "stream",
          "name": "stdout",
          "text": [
            "*\n",
            "***\n",
            "*****\n"
          ]
        }
      ]
    },
    {
      "cell_type": "markdown",
      "source": [
        "W2A18"
      ],
      "metadata": {
        "id": "IdHFozrif8ZT"
      }
    },
    {
      "cell_type": "code",
      "source": [
        "print('### # #  ### ###')\n",
        "print(' #  #  #  #   #')\n",
        "print(' #  #   # #   #')\n",
        "print(' #  #  #  #   #')\n",
        "print(' #  # #   #   #')"
      ],
      "metadata": {
        "colab": {
          "base_uri": "https://localhost:8080/"
        },
        "id": "z64bJhnXgSeN",
        "outputId": "a6f0b32e-fe45-4652-d9e9-51bb48ea657f"
      },
      "execution_count": null,
      "outputs": [
        {
          "output_type": "stream",
          "name": "stdout",
          "text": [
            "### # #  ### ###\n",
            " #  #  #  #   # \n",
            " #  #   # #   # \n",
            " #  #  #  #   # \n",
            " #  # #   #   # \n"
          ]
        }
      ]
    },
    {
      "cell_type": "code",
      "source": [
        "a =\"\"\"### # #  ### ###\n",
        " #  #  #  #   #\n",
        " #  #   # #   #\n",
        " #  #  #  #   #\n",
        " #  # #   #   # \"\"\"\n",
        "print(a)"
      ],
      "metadata": {
        "colab": {
          "base_uri": "https://localhost:8080/"
        },
        "id": "4t1cRv_NkZQr",
        "outputId": "e61719e3-c9ba-46d9-878a-6d6d00393e00"
      },
      "execution_count": null,
      "outputs": [
        {
          "output_type": "stream",
          "name": "stdout",
          "text": [
            "### # #  ### ###\n",
            " #  #  #  #   #\n",
            " #  #   # #   #\n",
            " #  #  #  #   #\n",
            " #  # #   #   # \n"
          ]
        }
      ]
    },
    {
      "cell_type": "markdown",
      "source": [
        "W2A19\n"
      ],
      "metadata": {
        "id": "DLhJ9CpRgS4O"
      }
    },
    {
      "cell_type": "code",
      "source": [
        "print('Monday\\nTuesday\\nWednesday\\nThursday\\nFriday\\nSaturday\\nSunday')"
      ],
      "metadata": {
        "colab": {
          "base_uri": "https://localhost:8080/"
        },
        "id": "Z8mRCCk2gVcs",
        "outputId": "624774fc-e56d-4d47-c5a6-5f13bbfdedf9"
      },
      "execution_count": null,
      "outputs": [
        {
          "output_type": "stream",
          "name": "stdout",
          "text": [
            "Monday\n",
            "Tuesday\n",
            "Wednesday\n",
            "Thursday\n",
            "Friday\n",
            "Saturday\n",
            "Sunday\n"
          ]
        }
      ]
    },
    {
      "cell_type": "markdown",
      "source": [
        "W2A20"
      ],
      "metadata": {
        "id": "-gq3km1CgWPa"
      }
    },
    {
      "cell_type": "code",
      "source": [
        "print('January\\nFebruary\\nMarch\\nApril\\nMay\\nJune\\nJuly\\nAugust\\nSeptember\\nOctober\\nNovember\\nDecember')"
      ],
      "metadata": {
        "colab": {
          "base_uri": "https://localhost:8080/"
        },
        "id": "whEeg70agdhc",
        "outputId": "110bd2ce-064c-4c29-f8f1-d76289783b16"
      },
      "execution_count": null,
      "outputs": [
        {
          "output_type": "stream",
          "name": "stdout",
          "text": [
            "January\n",
            "February\n",
            "March\n",
            "April\n",
            "May\n",
            "June\n",
            "July\n",
            "August\n",
            "September\n",
            "October\n",
            "November\n",
            "December\n"
          ]
        }
      ]
    },
    {
      "cell_type": "markdown",
      "source": [
        "W2A21"
      ],
      "metadata": {
        "id": "RN0L0j85cQBr"
      }
    },
    {
      "cell_type": "code",
      "source": [
        "\n",
        "for x in range (10):\n",
        "  print('Hello World')"
      ],
      "metadata": {
        "colab": {
          "base_uri": "https://localhost:8080/"
        },
        "id": "eT7qtuF3cWlY",
        "outputId": "535b2b74-b22f-45d7-a381-686fa3f84cd4"
      },
      "execution_count": null,
      "outputs": [
        {
          "output_type": "stream",
          "name": "stdout",
          "text": [
            "Hello World\n",
            "Hello World\n",
            "Hello World\n",
            "Hello World\n",
            "Hello World\n",
            "Hello World\n",
            "Hello World\n",
            "Hello World\n",
            "Hello World\n",
            "Hello World\n"
          ]
        }
      ]
    }
  ]
}